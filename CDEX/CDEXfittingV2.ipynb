{
 "cells": [
  {
   "cell_type": "code",
   "execution_count": 1,
   "id": "8066b1a1-94da-475d-923a-96af932ab8d3",
   "metadata": {},
   "outputs": [],
   "source": [
    "import pandas as pds\n",
    "import numpy as np\n",
    "\n",
    "#Reading in text file\n",
    "ge_data = pds.read_csv(\"CDEX_fig6.txt\", skiprows=1, \\\n",
    "                         names=['E', 'counts'], \\\n",
    "                         delim_whitespace=False\n",
    "                     )\n",
    "\n",
    "ge_data = ge_data.sort_values(by='E')\n",
    "\n",
    "#Arrays of histogram data\n",
    "E = np.asarray(ge_data[\"E\"], dtype=np.float32)\n",
    "counts = np.asarray(ge_data[\"counts\"], dtype=np.float32)\n",
    "\n",
    "#Asymmetric error bars for low counts\n",
    "error1 = [0.00,0.37,0.74,1.10,2.34,2.75,3.82,4.25,5.30,6.33,6.78,7.81,8.83,9.28]\n",
    "error2 = [1.29,2.75,4.25,5.30,6.78,7.81,9.28,10.30,11.32,12.79,13.81,14.82,16.29,17.30]\n",
    "ntot = counts\n",
    "ntot_plus = np.zeros(np.shape(ntot))\n",
    "ntot_minus = np.zeros(np.shape(ntot))\n",
    "for i,ncount in enumerate(ntot):\n",
    "    if ncount<=20:\n",
    "        ntot_plus[i] = error2[int(ncount)]-ncount\n",
    "        ntot_minus[i] = ncount-error1[int(ncount)]\n",
    "    else:\n",
    "        ntot_plus[i] = np.sqrt(ncount)\n",
    "        ntot_minus[i] = np.sqrt(ncount)"
   ]
  },
  {
   "cell_type": "code",
   "execution_count": 2,
   "id": "7d3900ea-152c-440c-ac20-fded9dc2d654",
   "metadata": {},
   "outputs": [
    {
     "data": {
      "image/png": "[encoded data removed]",
      "text/plain": [
       "<Figure size 648x288 with 1 Axes>"
      ]
     },
     "metadata": {
      "needs_background": "light"
     },
     "output_type": "display_data"
    }
   ],
   "source": [
    "import matplotlib as mpl\n",
    "from matplotlib import pyplot as plt\n",
    "\n",
    "#Plot of raw data \n",
    "fig,axes = plt.subplots(1,1, figsize=(9,4))\n",
    "ax1=axes\n",
    "ax1.errorbar(E, counts, yerr=[ntot_minus,ntot_plus], marker='o', markersize=8, linestyle = 'none')\n",
    "plt.xlabel(\"E\", fontsize=16)\n",
    "plt.ylabel(\"Counts\", fontsize=16)\n",
    "plt.show(fig) \n",
    "#print(E)"
   ]
  },
  {
   "cell_type": "code",
   "execution_count": 3,
   "id": "177fc746-146a-48f8-85ae-c417b2f503bc",
   "metadata": {},
   "outputs": [
    {
     "data": {
      "text/plain": [
       "'\\n#minimization\\n#initial parameter guesses A1, sig1, A2, sig2...?\\n#guess=np.array([3, 0.1, 2.7, 0.1, 5, 0.2, 8, 0.3, 2.5, 0.25, 12.6, 0.25])\\n#make guess an ndarray with n = number of parameters\\n#when using minimize for fitting, maybe pass data and fixed parameters as args?\\nguess=np.ndarray([[3,2.7,5,8,2.5,12.6],[0.1,0.1,0.2,0.3,0.25,0.25]]\\n\\nscipy.optimize.minimize(LSfunc(E, counts, means), guess)\\n'"
      ]
     },
     "execution_count": 3,
     "metadata": {},
     "output_type": "execute_result"
    }
   ],
   "source": [
    "import scipy\n",
    "#from scipy.optimize import minimize\n",
    "import numpy as np\n",
    "\n",
    "#Define fixed means - These are the characteristic xray energies, defined by binding energies of S-shells of daughters after electron capture occurs\n",
    "#ge_mu = 10.367\n",
    "#ga_mu = 9.659\n",
    "#zn_mu = 8.979\n",
    "#fe_mu = 6.539\n",
    "#mn_mu = 5.989\n",
    "#v_mu = 4.966\n",
    "\n",
    "#means=np.array([4.966, 5.989, 6.539, 8.979, 9.659, 10.367])\n",
    "#Define Gaussian model function\n",
    "#model= A1*e^-(x-mean1)^2/2*sig1^2+...\n",
    "def Gauss(x, theta):\n",
    "    amp1,amp2,amp3,amp4,amp5,amp6,sig1,sig2,sig3,sig4,sig5,sig6,mu1,mu2,mu3,mu4,mu5,mu6=theta\n",
    "    amp=np.array([amp1,amp2,amp3,amp4,amp5,amp6])\n",
    "    sig=np.array([sig1,sig2,sig3,sig4,sig5,sig6])\n",
    "    mu=np.array([mu1,mu2,mu3,mu4,mu5,mu6])\n",
    "    model = 0\n",
    "    for i in range(len(mu)):\n",
    "        model+=(amp[i]*np.exp(x-mu[i]))/(2*(sig[i])^2)\n",
    "    \n",
    "    return model\n",
    "    \n",
    "#Least Squares objective function to be minimized\n",
    "def LSfunc(x, y, theta):\n",
    "    model = Gauss(x, theta)\n",
    "    \n",
    "    return np.sum((y-model)**2)\n",
    "\"\"\"\n",
    "#minimization\n",
    "#initial parameter guesses A1, sig1, A2, sig2...?\n",
    "#guess=np.array([3, 0.1, 2.7, 0.1, 5, 0.2, 8, 0.3, 2.5, 0.25, 12.6, 0.25])\n",
    "#make guess an ndarray with n = number of parameters\n",
    "#when using minimize for fitting, maybe pass data and fixed parameters as args?\n",
    "guess=np.ndarray([[3,2.7,5,8,2.5,12.6],[0.1,0.1,0.2,0.3,0.25,0.25]]\n",
    "\n",
    "scipy.optimize.minimize(LSfunc(E, counts, means), guess)\n",
    "\"\"\""
   ]
  },
  {
   "cell_type": "code",
   "execution_count": 6,
   "id": "50195922-5d44-40fa-b7bf-b09a78a7c3f9",
   "metadata": {},
   "outputs": [
    {
     "ename": "ValueError",
     "evalue": "too many values to unpack (expected 18)",
     "output_type": "error",
     "traceback": [
      "\u001b[1;31m---------------------------------------------------------------------------\u001b[0m",
      "\u001b[1;31mValueError\u001b[0m                                Traceback (most recent call last)",
      "Input \u001b[1;32mIn [6]\u001b[0m, in \u001b[0;36m<cell line: 30>\u001b[1;34m()\u001b[0m\n\u001b[0;32m     27\u001b[0m f_params\u001b[38;5;241m.\u001b[39madd(\u001b[38;5;124m'\u001b[39m\u001b[38;5;124mmean5\u001b[39m\u001b[38;5;124m'\u001b[39m, vary\u001b[38;5;241m=\u001b[39m\u001b[38;5;28;01mFalse\u001b[39;00m, value\u001b[38;5;241m=\u001b[39m\u001b[38;5;241m9.659\u001b[39m, \u001b[38;5;28mmin\u001b[39m\u001b[38;5;241m=\u001b[39m\u001b[38;5;241m0\u001b[39m)\n\u001b[0;32m     28\u001b[0m f_params\u001b[38;5;241m.\u001b[39madd(\u001b[38;5;124m'\u001b[39m\u001b[38;5;124mmean6\u001b[39m\u001b[38;5;124m'\u001b[39m, vary\u001b[38;5;241m=\u001b[39m\u001b[38;5;28;01mFalse\u001b[39;00m, value\u001b[38;5;241m=\u001b[39m\u001b[38;5;241m10.367\u001b[39m, \u001b[38;5;28mmin\u001b[39m\u001b[38;5;241m=\u001b[39m\u001b[38;5;241m0\u001b[39m)\n\u001b[1;32m---> 30\u001b[0m result\u001b[38;5;241m=\u001b[39m\u001b[43mlmfit\u001b[49m\u001b[38;5;241;43m.\u001b[39;49m\u001b[43mminimize\u001b[49m\u001b[43m(\u001b[49m\u001b[43mLSfunc\u001b[49m\u001b[43m,\u001b[49m\u001b[43m \u001b[49m\u001b[43mf_params\u001b[49m\u001b[43m,\u001b[49m\u001b[43m \u001b[49m\u001b[43margs\u001b[49m\u001b[38;5;241;43m=\u001b[39;49m\u001b[43m(\u001b[49m\u001b[43mE\u001b[49m\u001b[43m,\u001b[49m\u001b[43m \u001b[49m\u001b[43mcounts\u001b[49m\u001b[43m)\u001b[49m\u001b[43m,\u001b[49m\u001b[43m \u001b[49m\u001b[43mmethod\u001b[49m\u001b[43m \u001b[49m\u001b[38;5;241;43m=\u001b[39;49m\u001b[43m \u001b[49m\u001b[38;5;124;43m'\u001b[39;49m\u001b[38;5;124;43mleastsq\u001b[39;49m\u001b[38;5;124;43m'\u001b[39;49m\u001b[43m)\u001b[49m\n\u001b[0;32m     31\u001b[0m lmfit\u001b[38;5;241m.\u001b[39mreport_fit(result)\n",
      "File \u001b[1;32m~\\.conda\\envs\\neutroncapture\\lib\\site-packages\\lmfit\\minimizer.py:2607\u001b[0m, in \u001b[0;36mminimize\u001b[1;34m(fcn, params, method, args, kws, iter_cb, scale_covar, nan_policy, reduce_fcn, calc_covar, max_nfev, **fit_kws)\u001b[0m\n\u001b[0;32m   2467\u001b[0m \u001b[38;5;124;03m\"\"\"Perform the minimization of the objective function.\u001b[39;00m\n\u001b[0;32m   2468\u001b[0m \n\u001b[0;32m   2469\u001b[0m \u001b[38;5;124;03mThe minimize function takes an objective function to be minimized,\u001b[39;00m\n\u001b[1;32m   (...)\u001b[0m\n\u001b[0;32m   2601\u001b[0m \n\u001b[0;32m   2602\u001b[0m \u001b[38;5;124;03m\"\"\"\u001b[39;00m\n\u001b[0;32m   2603\u001b[0m fitter \u001b[38;5;241m=\u001b[39m Minimizer(fcn, params, fcn_args\u001b[38;5;241m=\u001b[39margs, fcn_kws\u001b[38;5;241m=\u001b[39mkws,\n\u001b[0;32m   2604\u001b[0m                    iter_cb\u001b[38;5;241m=\u001b[39miter_cb, scale_covar\u001b[38;5;241m=\u001b[39mscale_covar,\n\u001b[0;32m   2605\u001b[0m                    nan_policy\u001b[38;5;241m=\u001b[39mnan_policy, reduce_fcn\u001b[38;5;241m=\u001b[39mreduce_fcn,\n\u001b[0;32m   2606\u001b[0m                    calc_covar\u001b[38;5;241m=\u001b[39mcalc_covar, max_nfev\u001b[38;5;241m=\u001b[39mmax_nfev, \u001b[38;5;241m*\u001b[39m\u001b[38;5;241m*\u001b[39mfit_kws)\n\u001b[1;32m-> 2607\u001b[0m \u001b[38;5;28;01mreturn\u001b[39;00m \u001b[43mfitter\u001b[49m\u001b[38;5;241;43m.\u001b[39;49m\u001b[43mminimize\u001b[49m\u001b[43m(\u001b[49m\u001b[43mmethod\u001b[49m\u001b[38;5;241;43m=\u001b[39;49m\u001b[43mmethod\u001b[49m\u001b[43m)\u001b[49m\n",
      "File \u001b[1;32m~\\.conda\\envs\\neutroncapture\\lib\\site-packages\\lmfit\\minimizer.py:2376\u001b[0m, in \u001b[0;36mMinimizer.minimize\u001b[1;34m(self, method, params, **kws)\u001b[0m\n\u001b[0;32m   2373\u001b[0m         \u001b[38;5;28;01mif\u001b[39;00m (key\u001b[38;5;241m.\u001b[39mlower()\u001b[38;5;241m.\u001b[39mstartswith(user_method) \u001b[38;5;129;01mor\u001b[39;00m\n\u001b[0;32m   2374\u001b[0m                 val\u001b[38;5;241m.\u001b[39mlower()\u001b[38;5;241m.\u001b[39mstartswith(user_method)):\n\u001b[0;32m   2375\u001b[0m             kwargs[\u001b[38;5;124m'\u001b[39m\u001b[38;5;124mmethod\u001b[39m\u001b[38;5;124m'\u001b[39m] \u001b[38;5;241m=\u001b[39m val\n\u001b[1;32m-> 2376\u001b[0m \u001b[38;5;28;01mreturn\u001b[39;00m function(\u001b[38;5;241m*\u001b[39m\u001b[38;5;241m*\u001b[39mkwargs)\n",
      "File \u001b[1;32m~\\.conda\\envs\\neutroncapture\\lib\\site-packages\\lmfit\\minimizer.py:1700\u001b[0m, in \u001b[0;36mMinimizer.leastsq\u001b[1;34m(self, params, max_nfev, **kws)\u001b[0m\n\u001b[0;32m   1698\u001b[0m result\u001b[38;5;241m.\u001b[39mcall_kws \u001b[38;5;241m=\u001b[39m lskws\n\u001b[0;32m   1699\u001b[0m \u001b[38;5;28;01mtry\u001b[39;00m:\n\u001b[1;32m-> 1700\u001b[0m     lsout \u001b[38;5;241m=\u001b[39m scipy_leastsq(\u001b[38;5;28mself\u001b[39m\u001b[38;5;241m.\u001b[39m__residual, variables, \u001b[38;5;241m*\u001b[39m\u001b[38;5;241m*\u001b[39mlskws)\n\u001b[0;32m   1701\u001b[0m \u001b[38;5;28;01mexcept\u001b[39;00m AbortFitException:\n\u001b[0;32m   1702\u001b[0m     \u001b[38;5;28;01mpass\u001b[39;00m\n",
      "File \u001b[1;32m~\\.conda\\envs\\neutroncapture\\lib\\site-packages\\scipy\\optimize\\minpack.py:410\u001b[0m, in \u001b[0;36mleastsq\u001b[1;34m(func, x0, args, Dfun, full_output, col_deriv, ftol, xtol, gtol, maxfev, epsfcn, factor, diag)\u001b[0m\n\u001b[0;32m    408\u001b[0m \u001b[38;5;28;01mif\u001b[39;00m \u001b[38;5;129;01mnot\u001b[39;00m \u001b[38;5;28misinstance\u001b[39m(args, \u001b[38;5;28mtuple\u001b[39m):\n\u001b[0;32m    409\u001b[0m     args \u001b[38;5;241m=\u001b[39m (args,)\n\u001b[1;32m--> 410\u001b[0m shape, dtype \u001b[38;5;241m=\u001b[39m \u001b[43m_check_func\u001b[49m\u001b[43m(\u001b[49m\u001b[38;5;124;43m'\u001b[39;49m\u001b[38;5;124;43mleastsq\u001b[39;49m\u001b[38;5;124;43m'\u001b[39;49m\u001b[43m,\u001b[49m\u001b[43m \u001b[49m\u001b[38;5;124;43m'\u001b[39;49m\u001b[38;5;124;43mfunc\u001b[39;49m\u001b[38;5;124;43m'\u001b[39;49m\u001b[43m,\u001b[49m\u001b[43m \u001b[49m\u001b[43mfunc\u001b[49m\u001b[43m,\u001b[49m\u001b[43m \u001b[49m\u001b[43mx0\u001b[49m\u001b[43m,\u001b[49m\u001b[43m \u001b[49m\u001b[43margs\u001b[49m\u001b[43m,\u001b[49m\u001b[43m \u001b[49m\u001b[43mn\u001b[49m\u001b[43m)\u001b[49m\n\u001b[0;32m    411\u001b[0m m \u001b[38;5;241m=\u001b[39m shape[\u001b[38;5;241m0\u001b[39m]\n\u001b[0;32m    413\u001b[0m \u001b[38;5;28;01mif\u001b[39;00m n \u001b[38;5;241m>\u001b[39m m:\n",
      "File \u001b[1;32m~\\.conda\\envs\\neutroncapture\\lib\\site-packages\\scipy\\optimize\\minpack.py:24\u001b[0m, in \u001b[0;36m_check_func\u001b[1;34m(checker, argname, thefunc, x0, args, numinputs, output_shape)\u001b[0m\n\u001b[0;32m     22\u001b[0m \u001b[38;5;28;01mdef\u001b[39;00m \u001b[38;5;21m_check_func\u001b[39m(checker, argname, thefunc, x0, args, numinputs,\n\u001b[0;32m     23\u001b[0m                 output_shape\u001b[38;5;241m=\u001b[39m\u001b[38;5;28;01mNone\u001b[39;00m):\n\u001b[1;32m---> 24\u001b[0m     res \u001b[38;5;241m=\u001b[39m atleast_1d(\u001b[43mthefunc\u001b[49m\u001b[43m(\u001b[49m\u001b[38;5;241;43m*\u001b[39;49m\u001b[43m(\u001b[49m\u001b[43m(\u001b[49m\u001b[43mx0\u001b[49m\u001b[43m[\u001b[49m\u001b[43m:\u001b[49m\u001b[43mnuminputs\u001b[49m\u001b[43m]\u001b[49m\u001b[43m,\u001b[49m\u001b[43m)\u001b[49m\u001b[43m \u001b[49m\u001b[38;5;241;43m+\u001b[39;49m\u001b[43m \u001b[49m\u001b[43margs\u001b[49m\u001b[43m)\u001b[49m\u001b[43m)\u001b[49m)\n\u001b[0;32m     25\u001b[0m     \u001b[38;5;28;01mif\u001b[39;00m (output_shape \u001b[38;5;129;01mis\u001b[39;00m \u001b[38;5;129;01mnot\u001b[39;00m \u001b[38;5;28;01mNone\u001b[39;00m) \u001b[38;5;129;01mand\u001b[39;00m (shape(res) \u001b[38;5;241m!=\u001b[39m output_shape):\n\u001b[0;32m     26\u001b[0m         \u001b[38;5;28;01mif\u001b[39;00m (output_shape[\u001b[38;5;241m0\u001b[39m] \u001b[38;5;241m!=\u001b[39m \u001b[38;5;241m1\u001b[39m):\n",
      "File \u001b[1;32m~\\.conda\\envs\\neutroncapture\\lib\\site-packages\\lmfit\\minimizer.py:590\u001b[0m, in \u001b[0;36mMinimizer.__residual\u001b[1;34m(self, fvars, apply_bounds_transformation)\u001b[0m\n\u001b[0;32m    587\u001b[0m     \u001b[38;5;28mself\u001b[39m\u001b[38;5;241m.\u001b[39mresult\u001b[38;5;241m.\u001b[39msuccess \u001b[38;5;241m=\u001b[39m \u001b[38;5;28;01mFalse\u001b[39;00m\n\u001b[0;32m    588\u001b[0m     \u001b[38;5;28;01mraise\u001b[39;00m AbortFitException(\u001b[38;5;124mf\u001b[39m\u001b[38;5;124m\"\u001b[39m\u001b[38;5;124mfit aborted: too many function evaluations \u001b[39m\u001b[38;5;132;01m{\u001b[39;00m\u001b[38;5;28mself\u001b[39m\u001b[38;5;241m.\u001b[39mmax_nfev\u001b[38;5;132;01m}\u001b[39;00m\u001b[38;5;124m\"\u001b[39m)\n\u001b[1;32m--> 590\u001b[0m out \u001b[38;5;241m=\u001b[39m \u001b[38;5;28mself\u001b[39m\u001b[38;5;241m.\u001b[39muserfcn(params, \u001b[38;5;241m*\u001b[39m\u001b[38;5;28mself\u001b[39m\u001b[38;5;241m.\u001b[39muserargs, \u001b[38;5;241m*\u001b[39m\u001b[38;5;241m*\u001b[39m\u001b[38;5;28mself\u001b[39m\u001b[38;5;241m.\u001b[39muserkws)\n\u001b[0;32m    592\u001b[0m \u001b[38;5;28;01mif\u001b[39;00m callable(\u001b[38;5;28mself\u001b[39m\u001b[38;5;241m.\u001b[39miter_cb):\n\u001b[0;32m    593\u001b[0m     abort \u001b[38;5;241m=\u001b[39m \u001b[38;5;28mself\u001b[39m\u001b[38;5;241m.\u001b[39miter_cb(params, \u001b[38;5;28mself\u001b[39m\u001b[38;5;241m.\u001b[39mresult\u001b[38;5;241m.\u001b[39mnfev, out,\n\u001b[0;32m    594\u001b[0m                          \u001b[38;5;241m*\u001b[39m\u001b[38;5;28mself\u001b[39m\u001b[38;5;241m.\u001b[39muserargs, \u001b[38;5;241m*\u001b[39m\u001b[38;5;241m*\u001b[39m\u001b[38;5;28mself\u001b[39m\u001b[38;5;241m.\u001b[39muserkws)\n",
      "Input \u001b[1;32mIn [3]\u001b[0m, in \u001b[0;36mLSfunc\u001b[1;34m(x, y, theta)\u001b[0m\n\u001b[0;32m     28\u001b[0m \u001b[38;5;28;01mdef\u001b[39;00m \u001b[38;5;21mLSfunc\u001b[39m(x, y, theta):\n\u001b[1;32m---> 29\u001b[0m     model \u001b[38;5;241m=\u001b[39m \u001b[43mGauss\u001b[49m\u001b[43m(\u001b[49m\u001b[43mx\u001b[49m\u001b[43m,\u001b[49m\u001b[43m \u001b[49m\u001b[43mtheta\u001b[49m\u001b[43m)\u001b[49m\n\u001b[0;32m     31\u001b[0m     \u001b[38;5;28;01mreturn\u001b[39;00m np\u001b[38;5;241m.\u001b[39msum((y\u001b[38;5;241m-\u001b[39mmodel)\u001b[38;5;241m*\u001b[39m\u001b[38;5;241m*\u001b[39m\u001b[38;5;241m2\u001b[39m)\n",
      "Input \u001b[1;32mIn [3]\u001b[0m, in \u001b[0;36mGauss\u001b[1;34m(x, theta)\u001b[0m\n\u001b[0;32m     16\u001b[0m \u001b[38;5;28;01mdef\u001b[39;00m \u001b[38;5;21mGauss\u001b[39m(x, theta):\n\u001b[1;32m---> 17\u001b[0m     amp1,amp2,amp3,amp4,amp5,amp6,sig1,sig2,sig3,sig4,sig5,sig6,mu1,mu2,mu3,mu4,mu5,mu6\u001b[38;5;241m=\u001b[39mtheta\n\u001b[0;32m     18\u001b[0m     amp\u001b[38;5;241m=\u001b[39mnp\u001b[38;5;241m.\u001b[39marray([amp1,amp2,amp3,amp4,amp5,amp6])\n\u001b[0;32m     19\u001b[0m     sig\u001b[38;5;241m=\u001b[39mnp\u001b[38;5;241m.\u001b[39marray([sig1,sig2,sig3,sig4,sig5,sig6])\n",
      "\u001b[1;31mValueError\u001b[0m: too many values to unpack (expected 18)"
     ]
    }
   ],
   "source": [
    "import lmfit\n",
    "\n",
    "f_model=lmfit.Model(Gauss)\n",
    "f_params = f_model.make_params()\n",
    "\n",
    "# amplitude parameters\n",
    "f_params.add('A1', vary=True, value=2.5, min=0)\n",
    "f_params.add('A2', vary=True, value=2.5, min=0)\n",
    "f_params.add('A3', vary=True, value=3, min=0)\n",
    "f_params.add('A4', vary=True, value=6, min=0)\n",
    "f_params.add('A5', vary=True, value=2, min=0)\n",
    "f_params.add('A6', vary=True, value=11, min=0)\n",
    "\n",
    "#standard deviation sigma\n",
    "f_params.add('SD1', vary=True, value=0.25, min=0)\n",
    "f_params.add('SD2', vary=True, value=0.25, min=0)\n",
    "f_params.add('SD3', vary=True, value=0.25, min=0)\n",
    "f_params.add('SD4', vary=True, value=0.25, min=0)\n",
    "f_params.add('SD5', vary=True, value=0.25, min=0)\n",
    "f_params.add('SD6', vary=True, value=0.25, min=0)\n",
    "\n",
    "#means\n",
    "f_params.add('mean1', vary=False, value=4.966, min=0)\n",
    "f_params.add('mean2', vary=False, value=5.989, min=0)\n",
    "f_params.add('mean3', vary=False, value=6.539, min=0)\n",
    "f_params.add('mean4', vary=False, value=8.979, min=0)\n",
    "f_params.add('mean5', vary=False, value=9.659, min=0)\n",
    "f_params.add('mean6', vary=False, value=10.367, min=0)\n",
    "\n",
    "result=lmfit.minimize(LSfunc, f_params, args=(E, counts), method = 'leastsq')\n",
    "lmfit.report_fit(result)"
   ]
  },
  {
   "cell_type": "code",
   "execution_count": null,
   "id": "1c636a01-6b9f-40ae-ac08-bdd39c09d6db",
   "metadata": {},
   "outputs": [],
   "source": []
  }
 ],
 "metadata": {
  "kernelspec": {
   "display_name": "Python 3 (ipykernel)",
   "language": "python",
   "name": "python3"
  },
  "language_info": {
   "codemirror_mode": {
    "name": "ipython",
    "version": 3
   },
   "file_extension": ".py",
   "mimetype": "text/x-python",
   "name": "python",
   "nbconvert_exporter": "python",
   "pygments_lexer": "ipython3",
   "version": "3.9.12"
  }
 },
 "nbformat": 4,
 "nbformat_minor": 5
}
