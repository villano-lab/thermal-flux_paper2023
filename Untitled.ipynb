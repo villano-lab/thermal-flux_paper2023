{
 "cells": [
  {
   "cell_type": "code",
   "execution_count": 1,
   "id": "bfd8465a-3205-4ddd-bca4-dc4041f572a7",
   "metadata": {},
   "outputs": [],
   "source": [
    "import numpy as np\n",
    "import matplotlib.pyplot as plt\n",
    "import emcee\n",
    "import corner\n",
    "import scipy\n",
    "import pandas as pds\n",
    "from scipy.optimize import minimize"
   ]
  },
  {
   "cell_type": "code",
   "execution_count": 2,
   "id": "b684e9cd-5e10-4314-ab9a-ffdadf3d0f04",
   "metadata": {},
   "outputs": [],
   "source": [
    "def poissant_distribution(n, lambda_val):\n",
    "    return np.exp(-lambda_val) * (lambda_val**n) / np.math.factorial(n)\n",
    "\n",
    "def negative_probability_distribution(lambda_val, n):\n",
    "    return -poissant_distribution(n, lambda_val)\n",
    "\n",
    "def maximize_distribution(n):\n",
    "    result = scipy.optimize.minimize(negative_probability_distribution, x0=[5], bounds=[(0,None)], args=(n,))\n",
    "    return result.x\n",
    "\n",
    "#importing and sorting data\n",
    "ge_data = pds.read_csv(\"SuperCDMS/PhysRevD.99.062001-data/MarchAprilFinal.txt\", skiprows=1, \\\n",
    "                         names=['time', 'blah'], \\\n",
    "                         delim_whitespace=False\n",
    "                     )\n",
    "\n",
    "ge_data = ge_data.sort_values(by='time')\n",
    "\n",
    "t = np.asarray(ge_data[\"time\"], dtype=np.float32)\n",
    "tstop = 1440\n"
   ]
  },
  {
   "cell_type": "code",
   "execution_count": 3,
   "id": "bbd8ccee-a9f5-4e4a-80f0-2698857b750e",
   "metadata": {},
   "outputs": [],
   "source": [
    "min_t=np.min(t)\n",
    "\n",
    "#construct histogram from our data, every bin is roughly 12 hours\n",
    "counts, bins = np.histogram(t-min_t,bins=72)\n",
    "thing = (bins[:-1]+bins[1:])/2\n",
    "error1 = [0.00,0.37,0.74,1.10,2.34,2.75,3.82,4.25,5.30,6.33,6.78,7.81,8.83,9.28]\n",
    "error2 = [1.29,2.75,4.25,5.30,6.78,7.81,9.28,10.30,11.32,12.79,13.81,14.82,16.29,17.30]\n",
    "ntot_plus = np.zeros(np.shape(counts))\n",
    "ntot_minus = np.zeros(np.shape(counts))\n",
    "for i,ncount in enumerate(counts):\n",
    "    if ncount<=20:\n",
    "        ntot_plus[i] = error2[ncount]-ncount\n",
    "        ntot_minus[i] = ncount-error1[ncount]\n",
    "    else:\n",
    "        ntot_plus[i] = np.sqrt(ncount)\n",
    "        ntot_minus[i] = np.sqrt(ncount)"
   ]
  },
  {
   "cell_type": "code",
   "execution_count": 9,
   "id": "243c76c6-9b5f-4708-a9cc-e41a633c94c7",
   "metadata": {},
   "outputs": [],
   "source": [
    "def log_likelihood_func(theta, tstop, nvec): \n",
    "    alpha,b=theta\n",
    "    \n",
    "    #initialize array of center time for each bin\n",
    "    times = [] \n",
    "    for i in range(len(nvec)):\n",
    "        result=(tstop/(len(nvec))*nvec[i])\n",
    "        times.extend([result])\n",
    "    \n",
    "    #initialize array of lambdas for each bin according to our model\n",
    "    lam_array = [] \n",
    "    for i in range(len(nvec)):\n",
    "        result = ((1/(1+b))*np.exp(-times[i]/alpha)/(alpha*(1-np.exp(-tstop/alpha)))+(b)/tstop)\n",
    "        lam_array.extend([result])\n",
    "    \n",
    "    #Sterling's approximation array\n",
    "    sterling_array = []\n",
    "    for i in range(len(nvec)):\n",
    "        if nvec[i]>12:\n",
    "                sterling_array.extend(nvec[i]*np.log(nvec[i])-nvec[i])\n",
    "        else:\n",
    "                sterling_array.extend(np.log(np.math.factorial(nvec[i])))\n",
    "    \n",
    "    model = 0\n",
    "    for i in range(len(nvec)):\n",
    "        model +=(-lam_array[i] + nvec[i]*np.log(lam_array[i])-sterling_array[i])\n",
    "    return model\n"
   ]
  },
  {
   "cell_type": "code",
   "execution_count": null,
   "id": "55779ade-d5d4-4682-b432-bef85b653dbe",
   "metadata": {},
   "outputs": [],
   "source": [
    "nll = lambda *args: -log_likelihood_func(*args)\n",
    "initial = np.array([l1, l2, l3]) #initial parameter vals? \n",
    "soln = scipy.optimize.minimize(nll, initial, args=(counts), bounds=[(0,20),(0,20),(0,20)]) #add bounds?\n",
    "lambda1_ml, lambda2_ml, lambda3_ml = soln.x\n",
    "print(soln.x)"
   ]
  }
 ],
 "metadata": {
  "kernelspec": {
   "display_name": "Python 3 (ipykernel)",
   "language": "python",
   "name": "python3"
  },
  "language_info": {
   "codemirror_mode": {
    "name": "ipython",
    "version": 3
   },
   "file_extension": ".py",
   "mimetype": "text/x-python",
   "name": "python",
   "nbconvert_exporter": "python",
   "pygments_lexer": "ipython3",
   "version": "3.9.12"
  }
 },
 "nbformat": 4,
 "nbformat_minor": 5
}
