{
 "cells": [
  {
   "cell_type": "code",
   "execution_count": 1,
   "id": "ddd84d4d-5e26-496a-b926-3be2fd754281",
   "metadata": {},
   "outputs": [],
   "source": [
    "import numpy as np\n",
    "import matplotlib.pyplot as plt\n",
    "import emcee\n",
    "import corner\n",
    "import scipy\n",
    "import random\n",
    "import pandas as pds\n",
    "from scipy.optimize import minimize\n"
   ]
  },
  {
   "cell_type": "code",
   "execution_count": 2,
   "id": "54a2346d-ca7a-435e-ac96-b9a39afbbbf8",
   "metadata": {},
   "outputs": [],
   "source": [
    "def poissant_distribution(n, lambda_val):\n",
    "    return np.exp(-lambda_val) * (lambda_val**n) / np.math.factorial(n)\n",
    "\n",
    "def negative_probability_distribution(lambda_val, n):\n",
    "    return -poissant_distribution(n, lambda_val)\n",
    "\n",
    "def maximize_distribution(n):\n",
    "    result = scipy.optimize.minimize(negative_probability_distribution, x0=[10], bounds=[(0,None)], args=(n,))\n",
    "    return result.x\n",
    "\n",
    "def rand_bins():\n",
    "    numbers = set()\n",
    "    while len(numbers) < 3:\n",
    "        numbers.add(random.randint(0, 71))\n",
    "    return numbers\n",
    "\n",
    "bin1, bin2, bin3 = rand_bins()"
   ]
  },
  {
   "cell_type": "code",
   "execution_count": 3,
   "id": "58430e04-709c-441e-bb65-182f17d2ccd8",
   "metadata": {},
   "outputs": [],
   "source": [
    "#importing and sorting data\n",
    "ge_data = pds.read_csv(\"SuperCDMS/PhysRevD.99.062001-data/MarchAprilFinal.txt\", skiprows=1, \\\n",
    "                         names=['time', 'blah'], \\\n",
    "                         delim_whitespace=False\n",
    "                     )\n",
    "\n",
    "ge_data = ge_data.sort_values(by='time')\n",
    "\n",
    "t = np.asarray(ge_data[\"time\"], dtype=np.float32)"
   ]
  },
  {
   "cell_type": "code",
   "execution_count": 4,
   "id": "535947a9-d4ea-4a6a-8fab-aec9e8801f5f",
   "metadata": {},
   "outputs": [],
   "source": [
    "min_t=np.min(t)\n",
    "\n",
    "#construct histogram from our data, every bin is roughly 12 hours\n",
    "counts, bins = np.histogram(t-min_t,bins=72)\n",
    "thing = (bins[:-1]+bins[1:])/2\n",
    "error1 = [0.00,0.37,0.74,1.10,2.34,2.75,3.82,4.25,5.30,6.33,6.78,7.81,8.83,9.28]\n",
    "error2 = [1.29,2.75,4.25,5.30,6.78,7.81,9.28,10.30,11.32,12.79,13.81,14.82,16.29,17.30]\n",
    "ntot_plus = np.zeros(np.shape(counts))\n",
    "ntot_minus = np.zeros(np.shape(counts))\n",
    "for i,ncount in enumerate(counts):\n",
    "    if ncount<=20:\n",
    "        ntot_plus[i] = error2[ncount]-ncount\n",
    "        ntot_minus[i] = ncount-error1[ncount]\n",
    "    else:\n",
    "        ntot_plus[i] = np.sqrt(ncount)\n",
    "        ntot_minus[i] = np.sqrt(ncount)"
   ]
  },
  {
   "cell_type": "code",
   "execution_count": 5,
   "id": "d8ef3f28-0de6-4843-b3ab-572241787235",
   "metadata": {},
   "outputs": [
    {
     "name": "stdout",
     "output_type": "stream",
     "text": [
      "3\n"
     ]
    }
   ],
   "source": [
    "lambda_array = []\n",
    "for i in range(len(counts)):\n",
    "    result=maximize_distribution(counts[i])\n",
    "    lambda_array.extend(result)\n",
    "\n",
    "prob_array = []\n",
    "for i in range(len(lambda_array)):\n",
    "    result=poissant_distribution(counts[i], lambda_array[i])\n",
    "    prob_array.extend([result])\n",
    "\n",
    "counts_array=np.asarray(counts)\n",
    "print(counts_array[bin1])"
   ]
  },
  {
   "cell_type": "code",
   "execution_count": 13,
   "id": "d41304d3-3893-4a94-a50d-1cf68f61e7d8",
   "metadata": {},
   "outputs": [],
   "source": [
    "\n",
    "def log_likelihood_func(theta, n1, n2, n3): \n",
    "    lambda1, lambda2, lambda3 = theta\n",
    "    sterling1, sterling2, sterling3 = 1 #sterling approximation for large values of n so the factorial function does not run into problems\n",
    "    if n1 > 20: \n",
    "        sterling1 = n1*np.log(n1)-n1\n",
    "    else:\n",
    "        sterling1 = np.log(np.math.factorial(n1))\n",
    "        \n",
    "    if n2 > 20: \n",
    "        sterling2 = n2*np.log(n2)-n2\n",
    "    else:\n",
    "        sterling2 = np.log(np.math.factorial(n2))\n",
    "    \n",
    "    if n3 > 20: \n",
    "        sterling3 = n3*np.log(n3)-n3\n",
    "    else:\n",
    "        sterling3 = np.log(np.math.factorial(n3))\n",
    "\n",
    "    model = (-lambda1 + n1*np.log(lambda1)-sterling1)+(-lambda2 + n2*np.log(lambda2)-sterling2)+(-lambda3 + n3*np.log(lambda3)-sterling3) \n",
    "    return model\n",
    "\n",
    "#def log_likelihood_func(theta, n): \n",
    " #   lambda_val = theta\n",
    "  #  sterling = 1 #sterling approximation for large values of n so the factorial function does not run into problems\n",
    "  #  if n > 20: \n",
    "  #      sterling = n*np.log(n)-n\n",
    "  #  else:\n",
    "  #      sterling = np.log(np.math.factorial(n))\n",
    "\n",
    "#    model = -lambda_val + n*np.log(lambda_val)-sterling #natural log of L(lambda, n) = e^-lambda * lambda^n / n!\n",
    " #   return model\n",
    "\n",
    "c1=counts_array[bin1]\n",
    "c2=counts_array[bin2]\n",
    "c3=counts_array[bin3]\n",
    "l1=lambda_array[bin1]\n",
    "l2=lambda_array[bin2]\n",
    "l3=lambda_array[bin3]\n",
    "\"\"\"\n",
    "nll = lambda *args: -log_likelihood_func(*args)\n",
    "initial = np.asarray([l1, l2, l3]) #initial parameter vals? \n",
    "soln = scipy.optimize.minimize(nll, initial, args=(c1, c2, c3)) \n",
    "lambda1_ml, lambda2_ml, lambda3_ml = soln.x\n",
    "print(soln.x)\"\"\"\n",
    "\n",
    "nll = lambda *args: -log_likelihood_func(*args)\n",
    "initial = np.asarray([l1]) #initial parameter vals? \n",
    "soln = scipy.optimize.minimize(nll, initial, args=(c1)) \n",
    "lambda1_ml = soln.x\n"
   ]
  },
  {
   "cell_type": "code",
   "execution_count": null,
   "id": "485e215f-297a-49a4-8af9-f4f5cde86fe0",
   "metadata": {},
   "outputs": [],
   "source": []
  }
 ],
 "metadata": {
  "kernelspec": {
   "display_name": "Python 3 (ipykernel)",
   "language": "python",
   "name": "python3"
  },
  "language_info": {
   "codemirror_mode": {
    "name": "ipython",
    "version": 3
   },
   "file_extension": ".py",
   "mimetype": "text/x-python",
   "name": "python",
   "nbconvert_exporter": "python",
   "pygments_lexer": "ipython3",
   "version": "3.9.12"
  }
 },
 "nbformat": 4,
 "nbformat_minor": 5
}
