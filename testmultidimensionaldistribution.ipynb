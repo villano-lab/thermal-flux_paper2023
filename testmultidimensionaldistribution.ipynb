{
 "cells": [
  {
   "cell_type": "code",
   "execution_count": 1,
   "id": "ddd84d4d-5e26-496a-b926-3be2fd754281",
   "metadata": {},
   "outputs": [],
   "source": [
    "import numpy as np\n",
    "import matplotlib.pyplot as plt\n",
    "import emcee\n",
    "import corner\n",
    "import scipy\n",
    "import random\n",
    "import pandas as pds\n",
    "from scipy.optimize import minimize\n"
   ]
  },
  {
   "cell_type": "code",
   "execution_count": 2,
   "id": "54a2346d-ca7a-435e-ac96-b9a39afbbbf8",
   "metadata": {},
   "outputs": [
    {
     "name": "stdout",
     "output_type": "stream",
     "text": [
      "[0.]\n"
     ]
    }
   ],
   "source": [
    "def poissant_distribution(n, lambda_val):\n",
    "    return np.exp(-lambda_val) * (lambda_val**n) / np.math.factorial(n)\n",
    "\n",
    "def negative_probability_distribution(lambda_val, n):\n",
    "    return -poissant_distribution(n, lambda_val)\n",
    "\n",
    "def maximize_distribution(n):\n",
    "    result = scipy.optimize.minimize(negative_probability_distribution, x0=[5], bounds=[(0,None)], args=(n,))\n",
    "    return result.x\n",
    "\n",
    "def rand_bins():\n",
    "    numbers = set()\n",
    "    while len(numbers) < 3:\n",
    "        numbers.add(random.randint(0, 71))\n",
    "    return numbers\n",
    "\n",
    "bin1, bin2, bin3 = rand_bins()\n",
    "\n",
    "bin1=18\n",
    "\n",
    "print(maximize_distribution(0))"
   ]
  },
  {
   "cell_type": "code",
   "execution_count": 3,
   "id": "58430e04-709c-441e-bb65-182f17d2ccd8",
   "metadata": {},
   "outputs": [],
   "source": [
    "#importing and sorting data\n",
    "ge_data = pds.read_csv(\"SuperCDMS/PhysRevD.99.062001-data/MarchAprilFinal.txt\", skiprows=1, \\\n",
    "                         names=['time', 'blah'], \\\n",
    "                         delim_whitespace=False\n",
    "                     )\n",
    "\n",
    "ge_data = ge_data.sort_values(by='time')\n",
    "\n",
    "t = np.asarray(ge_data[\"time\"], dtype=np.float32)"
   ]
  },
  {
   "cell_type": "code",
   "execution_count": 4,
   "id": "535947a9-d4ea-4a6a-8fab-aec9e8801f5f",
   "metadata": {},
   "outputs": [],
   "source": [
    "min_t=np.min(t)\n",
    "\n",
    "#construct histogram from our data, every bin is roughly 12 hours\n",
    "counts, bins = np.histogram(t-min_t,bins=72)\n",
    "thing = (bins[:-1]+bins[1:])/2\n",
    "error1 = [0.00,0.37,0.74,1.10,2.34,2.75,3.82,4.25,5.30,6.33,6.78,7.81,8.83,9.28]\n",
    "error2 = [1.29,2.75,4.25,5.30,6.78,7.81,9.28,10.30,11.32,12.79,13.81,14.82,16.29,17.30]\n",
    "ntot_plus = np.zeros(np.shape(counts))\n",
    "ntot_minus = np.zeros(np.shape(counts))\n",
    "for i,ncount in enumerate(counts):\n",
    "    if ncount<=20:\n",
    "        ntot_plus[i] = error2[ncount]-ncount\n",
    "        ntot_minus[i] = ncount-error1[ncount]\n",
    "    else:\n",
    "        ntot_plus[i] = np.sqrt(ncount)\n",
    "        ntot_minus[i] = np.sqrt(ncount)"
   ]
  },
  {
   "cell_type": "code",
   "execution_count": 5,
   "id": "d8ef3f28-0de6-4843-b3ab-572241787235",
   "metadata": {},
   "outputs": [
    {
     "name": "stdout",
     "output_type": "stream",
     "text": [
      "[13  9  5  6  5  7  6  1  2  4  4  5  5  5  6  2  3  3  0  3  3  5  5  4\n",
      "  3  4  2  3  1  3  4  0  3  1  3  4  2  3  1  2  2  1  2  2  1  2  1  1\n",
      "  3  2  1  0  0  1  1  1  1  1  1  2  1  2  0  1  0  2  1  1  1  1  1  2]\n"
     ]
    }
   ],
   "source": [
    "lambda_array = []\n",
    "for i in range(len(counts)):\n",
    "    result=maximize_distribution(counts[i])\n",
    "    lambda_array.extend(result)\n",
    "\n",
    "prob_array = []\n",
    "for i in range(len(lambda_array)):\n",
    "    result=poissant_distribution(counts[i], lambda_array[i])\n",
    "    prob_array.extend([result])\n",
    "\n",
    "counts_array=np.asarray(counts)\n",
    "print(counts_array)"
   ]
  },
  {
   "cell_type": "code",
   "execution_count": 6,
   "id": "d41304d3-3893-4a94-a50d-1cf68f61e7d8",
   "metadata": {},
   "outputs": [
    {
     "name": "stdout",
     "output_type": "stream",
     "text": [
      "[0.         5.         1.00000327]\n"
     ]
    },
    {
     "name": "stderr",
     "output_type": "stream",
     "text": [
      "C:\\Users\\cecih\\AppData\\Local\\Temp\\ipykernel_29496\\1070097413.py:21: RuntimeWarning: divide by zero encountered in log\n",
      "  model = (-lambda1 + n1*np.log(lambda1)-sterling1)+(-lambda2 + n2*np.log(lambda2)-sterling2)+(-lambda3 + n3*np.log(lambda3)-sterling3)\n",
      "C:\\Users\\cecih\\AppData\\Local\\Temp\\ipykernel_29496\\1070097413.py:21: RuntimeWarning: invalid value encountered in multiply\n",
      "  model = (-lambda1 + n1*np.log(lambda1)-sterling1)+(-lambda2 + n2*np.log(lambda2)-sterling2)+(-lambda3 + n3*np.log(lambda3)-sterling3)\n"
     ]
    }
   ],
   "source": [
    "\n",
    "def log_likelihood_func(theta, n1, n2, n3): \n",
    "    lambda1, lambda2, lambda3 = theta\n",
    "    sterling1 = 1\n",
    "    sterling2 = 1\n",
    "    sterling3 = 1 #sterling approximation for large values of n so the factorial function does not run into problems\n",
    "    if n1 > 12: \n",
    "        sterling1 = n1*np.log(n1)-n1\n",
    "    else:\n",
    "        sterling1 = np.log(np.math.factorial(n1))\n",
    "        \n",
    "    if n2 > 12: \n",
    "        sterling2 = n2*np.log(n2)-n2\n",
    "    else:\n",
    "        sterling2 = np.log(np.math.factorial(n2))\n",
    "    \n",
    "    if n3 > 12: \n",
    "        sterling3 = n3*np.log(n3)-n3\n",
    "    else:\n",
    "        sterling3 = np.log(np.math.factorial(n3))\n",
    "\n",
    "    model = (-lambda1 + n1*np.log(lambda1)-sterling1)+(-lambda2 + n2*np.log(lambda2)-sterling2)+(-lambda3 + n3*np.log(lambda3)-sterling3)\n",
    "    return model\n",
    "\n",
    "#def log_likelihood_func(theta, n): \n",
    " #   lambda_val = theta\n",
    "  #  sterling = 1 #sterling approximation for large values of n so the factorial function does not run into problems\n",
    "  #  if n > 20: \n",
    "  #      sterling = n*np.log(n)-n\n",
    "  #  else:\n",
    "  #      sterling = np.log(np.math.factorial(n))\n",
    "\n",
    "#    model = -lambda_val + n*np.log(lambda_val)-sterling #natural log of L(lambda, n) = e^-lambda * lambda^n / n!\n",
    " #   return model\n",
    "\n",
    "n1=counts_array[bin1]\n",
    "n2=counts_array[bin2]\n",
    "n3=counts_array[bin3]\n",
    "l1=lambda_array[bin1]\n",
    "l2=lambda_array[bin2]\n",
    "l3=lambda_array[bin3]\n",
    "\n",
    "nll = lambda *args: -log_likelihood_func(*args)\n",
    "initial = np.array([l1, l2, l3]) #initial parameter vals? \n",
    "soln = scipy.optimize.minimize(nll, initial, args=(n1, n2, n3), bounds=[(0,20),(0,20),(0,20)]) #add bounds?\n",
    "lambda1_ml, lambda2_ml, lambda3_ml = soln.x\n",
    "print(soln.x)\n",
    "\n",
    "#nll = lambda *args: -log_likelihood_func(*args)\n",
    "#initial = np.asarray([l1]) #initial parameter vals? \n",
    "#soln = scipy.optimize.minimize(nll, initial, args=(c1)) \n",
    "#lambda1_ml = soln.x\n"
   ]
  },
  {
   "cell_type": "code",
   "execution_count": 7,
   "id": "485e215f-297a-49a4-8af9-f4f5cde86fe0",
   "metadata": {},
   "outputs": [
    {
     "name": "stdout",
     "output_type": "stream",
     "text": [
      "18 11 68\n",
      "0 5 1\n"
     ]
    }
   ],
   "source": [
    "print(bin1,bin2,bin3)\n",
    "print(counts_array[bin1], counts_array[bin2], counts_array[bin3])\n",
    "def prior(theta): #this sets the prior conditions of our parameters\n",
    "    lambda1, lambda2, lambda3 = theta\n",
    "    if lambda1>=0 and lambda2>=0 and lambda3>=0:\n",
    "        return 0.0\n",
    "    return -np.inf\n",
    "\n",
    "def prob(theta, n1, n2, n3):\n",
    "    lp = prior(theta)\n",
    "    if not np.isfinite(lp):\n",
    "        return -np.inf \n",
    "    result = lp + log_likelihood_func(theta, n1, n2, n3)\n",
    "    if np.isnan(np.asarray([result])):\n",
    "        return -np.inf\n",
    "    return result"
   ]
  },
  {
   "cell_type": "code",
   "execution_count": null,
   "id": "57ab1bb3-0cea-40ad-82e1-fa4c016107e6",
   "metadata": {},
   "outputs": [
    {
     "name": "stderr",
     "output_type": "stream",
     "text": [
      "  0%|          | 0/5000 [00:00<?, ?it/s]C:\\Users\\cecih\\.conda\\envs\\neutroncapture\\lib\\site-packages\\emcee\\moves\\red_blue.py:99: RuntimeWarning: invalid value encountered in double_scalars\n",
      "  lnpdiff = f + nlp - state.log_prob[j]\n",
      " 62%|██████▏   | 3116/5000 [00:13<00:08, 217.29it/s]"
     ]
    }
   ],
   "source": [
    "pos = soln.x + 1e-4 * np.random.randn(32, 3)\n",
    "nwalkers, ndim = pos.shape\n",
    "\n",
    "sampler = emcee.EnsembleSampler(\n",
    "    nwalkers, ndim, prob, args=(n1, n2, n3)\n",
    ")\n",
    "\n",
    "sampler.run_mcmc(pos, 5000, progress=True);"
   ]
  },
  {
   "cell_type": "code",
   "execution_count": null,
   "id": "0c82ed1f-8611-4c56-9124-8ea427844ac9",
   "metadata": {},
   "outputs": [],
   "source": [
    "fig, axes = plt.subplots(3, figsize=(10, 7), sharex=True)\n",
    "samples = sampler.get_chain()\n",
    "labels = [\"lambda1\",\"lambda2\",\"lambda3\"]\n",
    "for i in range(ndim):\n",
    "    ax = axes[i]\n",
    "    ax.plot(samples[:, :, i], \"k\", alpha=0.3)\n",
    "    ax.set_xlim(0, len(samples))\n",
    "    ax.set_ylabel(labels[i])\n",
    "    ax.yaxis.set_label_coords(-0.1, 0.5)\n",
    "\n",
    "axes[-1].set_xlabel(\"step number\");\n",
    "\n",
    "#autocorrelation stuffs\n",
    "tau = sampler.get_autocorr_time()\n",
    "print(tau)\n",
    "\n",
    "flat_samples = sampler.get_chain(discard=100, thin=15, flat=True)\n",
    "print(flat_samples.shape)\n",
    "\n",
    "fig = corner.corner(\n",
    "    flat_samples, labels=labels, truths=[lambda1_ml, lambda2_ml, lambda3_ml]\n",
    ");"
   ]
  },
  {
   "cell_type": "code",
   "execution_count": null,
   "id": "941d0c7b-abd6-4c79-aa64-d22e3584eb65",
   "metadata": {},
   "outputs": [],
   "source": []
  }
 ],
 "metadata": {
  "kernelspec": {
   "display_name": "Python 3 (ipykernel)",
   "language": "python",
   "name": "python3"
  },
  "language_info": {
   "codemirror_mode": {
    "name": "ipython",
    "version": 3
   },
   "file_extension": ".py",
   "mimetype": "text/x-python",
   "name": "python",
   "nbconvert_exporter": "python",
   "pygments_lexer": "ipython3",
   "version": "3.9.12"
  }
 },
 "nbformat": 4,
 "nbformat_minor": 5
}
