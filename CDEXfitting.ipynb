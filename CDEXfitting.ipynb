{
 "cells": [
  {
   "cell_type": "code",
   "execution_count": 1,
   "id": "6e197369-5444-4923-b638-f4aacc98fecc",
   "metadata": {},
   "outputs": [],
   "source": [
    "import sys\n",
    "sys.path.append('../python/')\n",
    "\n",
    "#matplotlib for plotting\n",
    "import matplotlib as mpl\n",
    "from matplotlib import pyplot as plt\n",
    "import lmfit as lm\n",
    "import emcee as mc\n",
    "import numpy as np\n",
    "import corner\n",
    "import scipy\n",
    "import pandas as pds\n",
    "\n",
    "plt.style.use('mplstyles/stylelib/standard.mplstyle')\n",
    "from scipy.optimize import minimize\n",
    "from scipy.optimize import curve_fit\n",
    "from lmfit.models import GaussianModel"
   ]
  },
  {
   "cell_type": "code",
   "execution_count": 8,
   "id": "88ce9eba-0f79-42db-90a1-495543fa39b3",
   "metadata": {},
   "outputs": [
    {
     "data": {
      "image/png": "[encoded data removed]",
      "text/plain": [
       "<Figure size 648x288 with 1 Axes>"
      ]
     },
     "metadata": {
      "needs_background": "light"
     },
     "output_type": "display_data"
    },
    {
     "name": "stdout",
     "output_type": "stream",
     "text": [
      "[ 0.2718  0.3775  0.4862  0.5817  0.6832  0.8006  0.8911  0.995   1.0959\n",
      "  1.2028  1.2905  1.4005  1.5013  1.5972  1.7104  1.8056  1.9066  2.0091\n",
      "  2.1048  2.2119  2.3088  2.4096  2.5114  2.6242  2.7149  2.8218  2.9184\n",
      "  3.0256  3.132   3.2339  3.3244  3.4365  3.533   3.623   3.7311  3.8426\n",
      "  3.9342  4.0403  4.1424  4.2388  4.3448  4.4471  4.5429  4.6503  4.7519\n",
      "  4.8479  4.9515  5.046   5.1479  5.2541  5.3611  5.462   5.5591  5.6554\n",
      "  5.7625  5.8698  5.9659  6.0634  6.1638  6.2713  6.3719  6.4748  6.5793\n",
      "  6.6793  6.7728  6.8796  6.9757  7.0718  7.1802  7.2854  7.3834  7.4791\n",
      "  7.5857  7.6823  7.7896  7.8963  7.9928  8.101   8.1958  8.3017  8.3988\n",
      "  8.4948  8.6118  8.6989  8.7945  8.9139  9.0033  9.1027  9.2248  9.3072\n",
      "  9.4142  9.4994  9.6072  9.7151  9.822   9.9064 10.0235 10.1197 10.2273\n",
      " 10.3259 10.4319 10.543  10.6292 10.7309 10.8264 10.9344 11.0404 11.136\n",
      " 11.2325 11.3393 11.4362 11.543  11.6398 11.7346 11.8321 11.9494]\n"
     ]
    }
   ],
   "source": [
    "ge_data = pds.read_csv(\"CDEX/CDEX_fig6.txt\", skiprows=1, \\\n",
    "                         names=['E', 'counts'], \\\n",
    "                         delim_whitespace=False\n",
    "                     )\n",
    "\n",
    "ge_data = ge_data.sort_values(by='E')\n",
    "\n",
    "E = np.asarray(ge_data[\"E\"], dtype=np.float32)\n",
    "counts = np.asarray(ge_data[\"counts\"], dtype=np.float32)\n",
    "\n",
    "error1 = [0.00,0.37,0.74,1.10,2.34,2.75,3.82,4.25,5.30,6.33,6.78,7.81,8.83,9.28]\n",
    "error2 = [1.29,2.75,4.25,5.30,6.78,7.81,9.28,10.30,11.32,12.79,13.81,14.82,16.29,17.30]\n",
    "ntot = counts\n",
    "\n",
    "ntot_plus = np.zeros(np.shape(ntot))\n",
    "ntot_minus = np.zeros(np.shape(ntot))\n",
    "for i,ncount in enumerate(ntot):\n",
    "    if ncount<=20:\n",
    "        ntot_plus[i] = error2[int(ncount)]-ncount\n",
    "        ntot_minus[i] = ncount-error1[int(ncount)]\n",
    "    else:\n",
    "        ntot_plus[i] = np.sqrt(ncount)\n",
    "        ntot_minus[i] = np.sqrt(ncount)\n",
    "\n",
    "\n",
    "fig,axes = plt.subplots(1,1, figsize=(9,4))\n",
    "\n",
    "ax1=axes\n",
    "ax1.errorbar(E, counts, yerr=[ntot_minus,ntot_plus], marker='o', markersize=8, linestyle = 'none')\n",
    "plt.xlabel(\"E\", fontsize=16)\n",
    "plt.ylabel(\"Counts\", fontsize=16)\n",
    "plt.show(fig) \n",
    "print(E)"
   ]
  },
  {
   "cell_type": "code",
   "execution_count": 15,
   "id": "fe9a3b32-bd9f-4216-aacb-71440e49c8b1",
   "metadata": {},
   "outputs": [
    {
     "name": "stdout",
     "output_type": "stream",
     "text": [
      "[0.2718, 0.3775, 0.4862, 0.5817, 0.6832, 0.8006, 0.8911, 0.995, 1.0959, 1.2028, 1.2905, 1.4005, 1.5013, 1.5972, 1.7104, 1.8056, 1.9066, 2.0091, 2.1048, 2.2119, 2.3088, 2.4096, 2.5114, 2.6242, 2.7149, 2.8218, 2.9184, 3.0256, 3.132, 3.2339, 3.3244, 3.4365, 3.533, 3.623, 3.7311, 3.8426, 3.9342, 4.0403, 4.1424, 4.2388, 4.3448, 4.4471, 4.5429, 4.6503, 4.7519, 4.8479, 4.9515, 5.046, 5.1479, 5.2541, 5.3611, 5.462, 5.5591, 5.6554, 5.7625, 5.8698, 5.9659, 6.0634, 6.1638, 6.2713, 6.3719, 6.4748, 6.5793, 6.6793, 6.7728, 6.8796, 6.9757, 7.0718, 7.1802, 7.2854, 7.3834, 7.4791, 7.5857, 7.6823, 7.7896, 7.8963, 7.9928, 8.101, 8.1958, 8.3017, 8.3988, 8.4948, 8.6118, 8.6989, 8.7945, 8.9139, 9.0033, 9.1027, 9.2248, 9.3072, 9.4142, 9.4994, 9.6072, 9.7151, 9.822, 9.9064, 10.0235, 10.1197, 10.2273, 10.3259, 10.4319, 10.543, 10.6292, 10.7309, 10.8264, 10.9344, 11.0404, 11.136, 11.2325, 11.3393, 11.4362, 11.543, 11.6398, 11.7346, 11.8321, 11.9494]\n"
     ]
    },
    {
     "ename": "ValueError",
     "evalue": "9.9064 is not in list",
     "output_type": "error",
     "traceback": [
      "\u001b[1;31m---------------------------------------------------------------------------\u001b[0m",
      "\u001b[1;31mValueError\u001b[0m                                Traceback (most recent call last)",
      "Input \u001b[1;32mIn [15]\u001b[0m, in \u001b[0;36m<cell line: 27>\u001b[1;34m()\u001b[0m\n\u001b[0;32m     25\u001b[0m elist\u001b[38;5;241m=\u001b[39m\u001b[38;5;28mlist\u001b[39m(E)\n\u001b[0;32m     26\u001b[0m \u001b[38;5;28mprint\u001b[39m(elist)\n\u001b[1;32m---> 27\u001b[0m newe\u001b[38;5;241m=\u001b[39melist[\u001b[43melist\u001b[49m\u001b[38;5;241;43m.\u001b[39;49m\u001b[43mindex\u001b[49m\u001b[43m(\u001b[49m\u001b[38;5;241;43m9.9064\u001b[39;49m\u001b[43m)\u001b[49m:elist\u001b[38;5;241m.\u001b[39mindex(\u001b[38;5;241m11.0404\u001b[39m)\u001b[38;5;241m+\u001b[39m\u001b[38;5;241m1\u001b[39m]\n\u001b[0;32m     28\u001b[0m \u001b[38;5;28mprint\u001b[39m(newe)\n\u001b[0;32m     30\u001b[0m \u001b[38;5;28;01mdef\u001b[39;00m \u001b[38;5;21mgauss\u001b[39m(x, height, stdev, mean):\n",
      "\u001b[1;31mValueError\u001b[0m: 9.9064 is not in list"
     ]
    }
   ],
   "source": [
    "\"\"\"def gauss(x, height, stdev, mean):\n",
    "    return(height*np.exp(-(x-mean)/(2*(stdev**2))))\n",
    "\n",
    "#Erange=np.linspace(10,11,num=50) \n",
    "\n",
    "weight = (1/((ntot_plus+ntot_minus)/2))\n",
    "\n",
    "f_mod = lm.Model(gauss)\n",
    "f_params = f_mod.make_params()               # define parameters\n",
    "\n",
    "f_params.add('amp', vary=True,  value=11.5, min=0)  # half life\n",
    "\n",
    "# amplitude\n",
    "f_params.add('sig', vary=True, value=0.25, min=0, max=100)  \n",
    "# time\n",
    "f_params.add('c',  vary=True,  value=10.3)\n",
    "\n",
    "#do the fitting\n",
    "counts1 = counts/np.sum(counts)\n",
    "weight1 = weight*np.sum(counts)\n",
    "\n",
    "fit = f_mod.fit(counts1, params=f_params, x=E, weights=weight1)\n",
    "\n",
    "fit\"\"\"\n",
    "elist=list(E)\n",
    "print(elist)\n",
    "newe=elist[elist.index(9.9064):elist.index(11.0404)+1]\n",
    "print(newe)\n",
    "\n",
    "def gauss(x, height, stdev, mean):\n",
    "    return height * np.exp(-(x - mean) / (2 * (stdev**2)))\n",
    "\n",
    "# E is your x-values, counts is your y-values, and weight is the weight for each point\n",
    "# Make sure these arrays are defined before using them in the fit\n",
    "\n",
    "weight = 1 / ((ntot_plus + ntot_minus) / 2)\n",
    "\n",
    "gaussian_mod = lm.Model(gauss)\n",
    "gaussian_params = gaussian_mod.make_params()\n",
    "\n",
    "gaussian_params.add('height', vary=True, value=11.5, min=0)\n",
    "gaussian_params.add('stdev', vary=True, value=0.25, min=0, max=100)\n",
    "gaussian_params.add('mean', vary=True, value=10.3)\n",
    "\n",
    "# Perform the fitting\n",
    "fit_result = gaussian_mod.fit(counts, params=gaussian_params, x=E, weights=weight)\n",
    "\n",
    "print(fit_result.fit_report())"
   ]
  },
  {
   "cell_type": "code",
   "execution_count": null,
   "id": "86eea3b5-ca17-43b6-98d3-fb3b7a587f22",
   "metadata": {},
   "outputs": [],
   "source": []
  }
 ],
 "metadata": {
  "kernelspec": {
   "display_name": "Python 3 (ipykernel)",
   "language": "python",
   "name": "python3"
  },
  "language_info": {
   "codemirror_mode": {
    "name": "ipython",
    "version": 3
   },
   "file_extension": ".py",
   "mimetype": "text/x-python",
   "name": "python",
   "nbconvert_exporter": "python",
   "pygments_lexer": "ipython3",
   "version": "3.9.12"
  }
 },
 "nbformat": 4,
 "nbformat_minor": 5
}
