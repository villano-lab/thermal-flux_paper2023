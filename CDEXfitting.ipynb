{
 "cells": [
  {
   "cell_type": "code",
   "execution_count": 1,
   "id": "6e197369-5444-4923-b638-f4aacc98fecc",
   "metadata": {},
   "outputs": [],
   "source": [
    "import sys\n",
    "sys.path.append('../python/')\n",
    "\n",
    "#matplotlib for plotting\n",
    "import matplotlib as mpl\n",
    "from matplotlib import pyplot as plt\n",
    "import lmfit as lm\n",
    "import emcee as mc\n",
    "import numpy as np\n",
    "import corner\n",
    "import scipy\n",
    "import pandas as pds\n",
    "from scipy.optimize import minimize\n",
    "\n",
    "plt.style.use('mplstyles/stylelib/standard.mplstyle')\n",
    "from scipy.optimize import minimize"
   ]
  },
  {
   "cell_type": "code",
   "execution_count": 2,
   "id": "88ce9eba-0f79-42db-90a1-495543fa39b3",
   "metadata": {},
   "outputs": [
    {
     "data": {
      "image/png": "[encoded data removed]",
      "text/plain": [
       "<Figure size 648x288 with 1 Axes>"
      ]
     },
     "metadata": {
      "needs_background": "light"
     },
     "output_type": "display_data"
    }
   ],
   "source": [
    "ge_data = pds.read_csv(\"CDEX/CDEX_fig6.txt\", skiprows=1, \\\n",
    "                         names=['E', 'counts'], \\\n",
    "                         delim_whitespace=False\n",
    "                     )\n",
    "\n",
    "ge_data = ge_data.sort_values(by='E')\n",
    "\n",
    "E = np.asarray(ge_data[\"E\"], dtype=np.float32)\n",
    "counts = np.asarray(ge_data[\"counts\"], dtype=np.float32)\n",
    "\n",
    "error1 = [0.00,0.37,0.74,1.10,2.34,2.75,3.82,4.25,5.30,6.33,6.78,7.81,8.83,9.28]\n",
    "error2 = [1.29,2.75,4.25,5.30,6.78,7.81,9.28,10.30,11.32,12.79,13.81,14.82,16.29,17.30]\n",
    "ntot = counts\n",
    "\n",
    "#ntot_plus = np.zeros(np.shape(ntot))\n",
    "#ntot_minus = np.zeros(np.shape(ntot))\n",
    "#for i,ncount in enumerate(ntot):\n",
    " #   if ncount<=20:\n",
    " #       ntot_plus[i] = error2[ncount]-ncount\n",
    " #       ntot_minus[i] = ncount-error1[ncount]\n",
    " #   else:\n",
    " #       ntot_plus[i] = np.sqrt(ncount)\n",
    " #       ntot_minus[i] = np.sqrt(ncount)\n",
    "\n",
    "\n",
    "fig,axes = plt.subplots(1,1, figsize=(9,4))\n",
    "\n",
    "ax1=axes\n",
    "ax1.errorbar(E, counts, marker='o', markersize=8, linestyle = 'none')\n",
    "plt.xlabel(\"E\", fontsize=16)\n",
    "plt.ylabel(\"Counts\", fontsize=16)\n",
    "plt.show(fig)"
   ]
  },
  {
   "cell_type": "code",
   "execution_count": null,
   "id": "fe9a3b32-bd9f-4216-aacb-71440e49c8b1",
   "metadata": {},
   "outputs": [],
   "source": []
  }
 ],
 "metadata": {
  "kernelspec": {
   "display_name": "Python 3 (ipykernel)",
   "language": "python",
   "name": "python3"
  },
  "language_info": {
   "codemirror_mode": {
    "name": "ipython",
    "version": 3
   },
   "file_extension": ".py",
   "mimetype": "text/x-python",
   "name": "python",
   "nbconvert_exporter": "python",
   "pygments_lexer": "ipython3",
   "version": "3.9.12"
  }
 },
 "nbformat": 4,
 "nbformat_minor": 5
}
