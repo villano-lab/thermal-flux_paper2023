{
 "cells": [
  {
   "cell_type": "code",
   "execution_count": 2,
   "id": "47279a4a-f196-4141-a7df-a868d59750a1",
   "metadata": {},
   "outputs": [],
   "source": [
    "#we may need some code in the ../python directory and/or matplotlib styles\n",
    "import sys\n",
    "sys.path.append('../python/')\n",
    "\n",
    "#matplotlib for plotting\n",
    "import matplotlib as mpl\n",
    "from matplotlib import pyplot as plt\n",
    "plt.style.use('mplstyles/stylelib/standard.mplstyle')\n",
    "\n",
    "#other computational libraries\n",
    "import numpy as np"
   ]
  },
  {
   "cell_type": "code",
   "execution_count": 3,
   "id": "0acbbb16-de56-4504-8b1e-d65b9027a629",
   "metadata": {},
   "outputs": [
    {
     "name": "stdout",
     "output_type": "stream",
     "text": [
      "      time    blah\n",
      "0  18.2372  5.7520\n",
      "1  18.8376  4.8699\n",
      "2  21.7213  4.5819\n",
      "3  31.5173  3.8949\n",
      "4  36.6141  6.6432\n",
      "5  36.6904  3.9877\n",
      "6  45.3014  4.5169\n",
      "7  48.1338  6.0118\n",
      "8  48.7492  4.6097\n",
      "9  50.4288  6.1974\n"
     ]
    }
   ],
   "source": [
    "# import data from text file\n",
    "import pandas as pds\n",
    "\n",
    "ge_data = pds.read_csv(\"SuperCDMS/PhysRevD.99.062001-data/MarchAprilData.txt\", skiprows=1, \\\n",
    "                         names=['time', 'blah'], \\\n",
    "                         delim_whitespace=True)\n",
    "\n",
    "ge_data = ge_data.sort_values(by='time')\n",
    "\n",
    "print (ge_data.head(10))\n",
    "\n",
    "t = np.asarray(ge_data[\"time\"])\n",
    "\n",
    "\n"
   ]
  },
  {
   "cell_type": "code",
   "execution_count": null,
   "id": "542dac95-8fa3-47af-b2a1-9a1ebe7c062d",
   "metadata": {},
   "outputs": [],
   "source": []
  }
 ],
 "metadata": {
  "kernelspec": {
   "display_name": "Python (fano_pub_old_emcee)",
   "language": "python",
   "name": "fano_pub_old_emcee"
  },
  "language_info": {
   "codemirror_mode": {
    "name": "ipython",
    "version": 3
   },
   "file_extension": ".py",
   "mimetype": "text/x-python",
   "name": "python",
   "nbconvert_exporter": "python",
   "pygments_lexer": "ipython3",
   "version": "3.8.0"
  }
 },
 "nbformat": 4,
 "nbformat_minor": 5
}
